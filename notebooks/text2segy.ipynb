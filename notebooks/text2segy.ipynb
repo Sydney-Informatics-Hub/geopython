{
 "cells": [
  {
   "cell_type": "code",
   "execution_count": 1,
   "id": "ac373608",
   "metadata": {},
   "outputs": [],
   "source": [
    "# Standard Python libraries\n",
    "import sys\n",
    "import pandas as pd\n",
    "import numpy as np\n",
    "\n",
    "#Plotting\n",
    "import matplotlib.pyplot as plt\n",
    "\n",
    "# For reading segy data\n",
    "from obspy.io.segy.segy import _read_segy\n",
    "\n",
    "#For writing segy data\n",
    "from obspy import read, Trace, Stream, UTCDateTime\n",
    "from obspy.core import AttribDict\n",
    "from obspy.io.segy.segy import SEGYTraceHeader, SEGYBinaryFileHeader\n"
   ]
  },
  {
   "cell_type": "markdown",
   "id": "e784c655",
   "metadata": {},
   "source": [
    "# A. Read in text data"
   ]
  },
  {
   "cell_type": "code",
   "execution_count": 2,
   "id": "f44f048a",
   "metadata": {},
   "outputs": [
    {
     "name": "stdout",
     "output_type": "stream",
     "text": [
      "Done reading file. Number of lines: 3957609\n"
     ]
    }
   ],
   "source": [
    "# Set the filename\n",
    "f = open(\"userdata/P-impedance_2400-3000ms.gslib\",'r')\n",
    "\n",
    "#Read in all the lines in the file and save them to a variable\n",
    "mylist = f.readlines()\n",
    "\n",
    "#Close the file\n",
    "f.close()\n",
    "print(\"Done reading file. Number of lines:\", len(mylist))"
   ]
  },
  {
   "cell_type": "code",
   "execution_count": 3,
   "id": "2ff7dff1",
   "metadata": {},
   "outputs": [
    {
     "name": "stdout",
     "output_type": "stream",
     "text": [
      "PETREL: Properties\n",
      "\n",
      "7\n",
      "\n",
      "i_index unit1 scale1\n",
      "\n",
      "j_index unit1 scale1\n",
      "\n",
      "k_index unit1 scale1\n",
      "\n",
      "x_coord unit1 scale1\n",
      "\n",
      "y_coord unit1 scale1\n",
      "\n",
      "z_coord unit1 scale1\n",
      "\n",
      "P-Impedance unit1 scale1\n",
      "\n",
      "127 1 300 438131.65314303 6475378.74871708 -2999.00000000 9556.294922 \n",
      "\n",
      "128 1 300 438181.65314303 6475378.74871708 -2999.00000000 9627.205078 \n",
      "\n"
     ]
    }
   ],
   "source": [
    "#Have a look at the top of the data\n",
    "for line in mylist[0:11]:\n",
    "    print(line)"
   ]
  },
  {
   "cell_type": "code",
   "execution_count": 4,
   "id": "edb96cdd",
   "metadata": {},
   "outputs": [],
   "source": [
    "# A few ways to map this to a useful python format. But the simplest may be the following\n",
    "data = []\n",
    "\n",
    "#Skip the header rows\n",
    "for line in mylist[9:]:\n",
    "    linesplit = line.split()\n",
    "    \n",
    "    i = int(linesplit[0])\n",
    "    j = int(linesplit[1])\n",
    "    k = int(linesplit[2])\n",
    "    x = float(linesplit[3])\n",
    "    y = float(linesplit[4])\n",
    "    z = float(linesplit[5])\n",
    "    p = float(linesplit[6])\n",
    "    \n",
    "    data.append([i,j,k,x,y,z,p])\n"
   ]
  },
  {
   "cell_type": "code",
   "execution_count": 5,
   "id": "78b11c26",
   "metadata": {},
   "outputs": [
    {
     "data": {
      "text/html": [
       "<div>\n",
       "<style scoped>\n",
       "    .dataframe tbody tr th:only-of-type {\n",
       "        vertical-align: middle;\n",
       "    }\n",
       "\n",
       "    .dataframe tbody tr th {\n",
       "        vertical-align: top;\n",
       "    }\n",
       "\n",
       "    .dataframe thead th {\n",
       "        text-align: right;\n",
       "    }\n",
       "</style>\n",
       "<table border=\"1\" class=\"dataframe\">\n",
       "  <thead>\n",
       "    <tr style=\"text-align: right;\">\n",
       "      <th></th>\n",
       "      <th>i</th>\n",
       "      <th>j</th>\n",
       "      <th>k</th>\n",
       "      <th>x</th>\n",
       "      <th>y</th>\n",
       "      <th>z</th>\n",
       "      <th>p</th>\n",
       "    </tr>\n",
       "  </thead>\n",
       "  <tbody>\n",
       "    <tr>\n",
       "      <th>0</th>\n",
       "      <td>127</td>\n",
       "      <td>1</td>\n",
       "      <td>300</td>\n",
       "      <td>438131.653143</td>\n",
       "      <td>6.475379e+06</td>\n",
       "      <td>-2999.0</td>\n",
       "      <td>9556.294922</td>\n",
       "    </tr>\n",
       "    <tr>\n",
       "      <th>1</th>\n",
       "      <td>128</td>\n",
       "      <td>1</td>\n",
       "      <td>300</td>\n",
       "      <td>438181.653143</td>\n",
       "      <td>6.475379e+06</td>\n",
       "      <td>-2999.0</td>\n",
       "      <td>9627.205078</td>\n",
       "    </tr>\n",
       "    <tr>\n",
       "      <th>2</th>\n",
       "      <td>129</td>\n",
       "      <td>1</td>\n",
       "      <td>300</td>\n",
       "      <td>438231.653143</td>\n",
       "      <td>6.475379e+06</td>\n",
       "      <td>-2999.0</td>\n",
       "      <td>9555.066406</td>\n",
       "    </tr>\n",
       "    <tr>\n",
       "      <th>3</th>\n",
       "      <td>130</td>\n",
       "      <td>1</td>\n",
       "      <td>300</td>\n",
       "      <td>438281.653143</td>\n",
       "      <td>6.475379e+06</td>\n",
       "      <td>-2999.0</td>\n",
       "      <td>9468.100586</td>\n",
       "    </tr>\n",
       "    <tr>\n",
       "      <th>4</th>\n",
       "      <td>123</td>\n",
       "      <td>2</td>\n",
       "      <td>300</td>\n",
       "      <td>437931.653143</td>\n",
       "      <td>6.475429e+06</td>\n",
       "      <td>-2999.0</td>\n",
       "      <td>9601.517578</td>\n",
       "    </tr>\n",
       "    <tr>\n",
       "      <th>...</th>\n",
       "      <td>...</td>\n",
       "      <td>...</td>\n",
       "      <td>...</td>\n",
       "      <td>...</td>\n",
       "      <td>...</td>\n",
       "      <td>...</td>\n",
       "      <td>...</td>\n",
       "    </tr>\n",
       "    <tr>\n",
       "      <th>3957595</th>\n",
       "      <td>26</td>\n",
       "      <td>127</td>\n",
       "      <td>1</td>\n",
       "      <td>433081.653143</td>\n",
       "      <td>6.481679e+06</td>\n",
       "      <td>-2401.0</td>\n",
       "      <td>5848.801758</td>\n",
       "    </tr>\n",
       "    <tr>\n",
       "      <th>3957596</th>\n",
       "      <td>27</td>\n",
       "      <td>127</td>\n",
       "      <td>1</td>\n",
       "      <td>433131.653143</td>\n",
       "      <td>6.481679e+06</td>\n",
       "      <td>-2401.0</td>\n",
       "      <td>5924.203125</td>\n",
       "    </tr>\n",
       "    <tr>\n",
       "      <th>3957597</th>\n",
       "      <td>28</td>\n",
       "      <td>127</td>\n",
       "      <td>1</td>\n",
       "      <td>433181.653143</td>\n",
       "      <td>6.481679e+06</td>\n",
       "      <td>-2401.0</td>\n",
       "      <td>6037.129883</td>\n",
       "    </tr>\n",
       "    <tr>\n",
       "      <th>3957598</th>\n",
       "      <td>29</td>\n",
       "      <td>127</td>\n",
       "      <td>1</td>\n",
       "      <td>433231.653143</td>\n",
       "      <td>6.481679e+06</td>\n",
       "      <td>-2401.0</td>\n",
       "      <td>5978.708984</td>\n",
       "    </tr>\n",
       "    <tr>\n",
       "      <th>3957599</th>\n",
       "      <td>25</td>\n",
       "      <td>128</td>\n",
       "      <td>1</td>\n",
       "      <td>433031.653143</td>\n",
       "      <td>6.481729e+06</td>\n",
       "      <td>-2401.0</td>\n",
       "      <td>5812.972168</td>\n",
       "    </tr>\n",
       "  </tbody>\n",
       "</table>\n",
       "<p>3957600 rows × 7 columns</p>\n",
       "</div>"
      ],
      "text/plain": [
       "           i    j    k              x             y       z            p\n",
       "0        127    1  300  438131.653143  6.475379e+06 -2999.0  9556.294922\n",
       "1        128    1  300  438181.653143  6.475379e+06 -2999.0  9627.205078\n",
       "2        129    1  300  438231.653143  6.475379e+06 -2999.0  9555.066406\n",
       "3        130    1  300  438281.653143  6.475379e+06 -2999.0  9468.100586\n",
       "4        123    2  300  437931.653143  6.475429e+06 -2999.0  9601.517578\n",
       "...      ...  ...  ...            ...           ...     ...          ...\n",
       "3957595   26  127    1  433081.653143  6.481679e+06 -2401.0  5848.801758\n",
       "3957596   27  127    1  433131.653143  6.481679e+06 -2401.0  5924.203125\n",
       "3957597   28  127    1  433181.653143  6.481679e+06 -2401.0  6037.129883\n",
       "3957598   29  127    1  433231.653143  6.481679e+06 -2401.0  5978.708984\n",
       "3957599   25  128    1  433031.653143  6.481729e+06 -2401.0  5812.972168\n",
       "\n",
       "[3957600 rows x 7 columns]"
      ]
     },
     "execution_count": 5,
     "metadata": {},
     "output_type": "execute_result"
    }
   ],
   "source": [
    "#Put the list in a dataframe\n",
    "df=pd.DataFrame(data)\n",
    "\n",
    "#Then free up some memory (because this is a fairly big chunk of data)\n",
    "data=None\n",
    "\n",
    "#Set the names of the columns of the dataframe\n",
    "df.columns=['i','j','k','x','y','z','p']\n",
    "\n",
    "df"
   ]
  },
  {
   "cell_type": "code",
   "execution_count": 6,
   "id": "4fc7a3fe",
   "metadata": {},
   "outputs": [
    {
     "data": {
      "image/png": "[encoded data removed]",
      "text/plain": [
       "<Figure size 1152x144 with 1 Axes>"
      ]
     },
     "metadata": {
      "needs_background": "light"
     },
     "output_type": "display_data"
    }
   ],
   "source": [
    "#Plot a single trace to see everything looks okay\n",
    "one_trace = df[(df.i==127) & (df.j==1)].p\n",
    "\n",
    "plt.figure(figsize=(16,2))\n",
    "plt.plot(one_trace)\n",
    "plt.show()"
   ]
  },
  {
   "cell_type": "code",
   "execution_count": 11,
   "id": "2b66dc57",
   "metadata": {},
   "outputs": [
    {
     "data": {
      "text/plain": [
       "[<matplotlib.lines.Line2D at 0x2241074cb20>]"
      ]
     },
     "execution_count": 11,
     "metadata": {},
     "output_type": "execute_result"
    },
    {
     "data": {
      "image/png": "[encoded data removed]",
      "text/plain": [
       "<Figure size 432x288 with 1 Axes>"
      ]
     },
     "metadata": {
      "needs_background": "light"
     },
     "output_type": "display_data"
    }
   ],
   "source": [
    "plt.plot(df.z)"
   ]
  },
  {
   "cell_type": "markdown",
   "id": "a4e5087b",
   "metadata": {},
   "source": [
    "# B. Read in equivalent segy data.\n",
    "Get the segy header information from here, and just see what the goal is for the conversion."
   ]
  },
  {
   "cell_type": "code",
   "execution_count": 7,
   "id": "96c48dd7",
   "metadata": {},
   "outputs": [
    {
     "name": "stdout",
     "output_type": "stream",
     "text": [
      "(216540,)\n"
     ]
    },
    {
     "data": {
      "text/plain": [
       "216540 traces in the SEG Y structure."
      ]
     },
     "execution_count": 7,
     "metadata": {},
     "output_type": "execute_result"
    }
   ],
   "source": [
    "stream = None \n",
    "stream = _read_segy(\"userdata/P-impedance_2400-3000ms.sgy\", headonly=True)\n",
    "print(np.shape(stream.traces))\n",
    "stream"
   ]
  },
  {
   "cell_type": "code",
   "execution_count": 20,
   "id": "f7a19595",
   "metadata": {},
   "outputs": [],
   "source": [
    "arrs=[]\n",
    "for index, one_trace in enumerate(stream.traces):\n",
    "    p = one_trace.data\n",
    "    lenp = len(p)\n",
    "    i = np.full((lenp), index,dtype=int)\n",
    "    j = np.full((lenp), one_trace.header.ensemble_number,dtype=int)\n",
    "    k = np.arange(lenp,0,-1,dtype=int)\n",
    "    x = np.full((lenp), one_trace.header.source_coordinate_x)\n",
    "    y = np.full((lenp), one_trace.header.source_coordinate_y)\n",
    "    z = np.full((lenp), one_trace.header.original_field_record_number)\n",
    "    \n",
    "    temparr = np.c_[i,j,k,x,y,z,p]\n",
    "    arrs.append(temparr)\n",
    "    \n",
    "arrs = np.vstack(arrs)\n"
   ]
  },
  {
   "cell_type": "code",
   "execution_count": 37,
   "id": "d67fe3dc",
   "metadata": {},
   "outputs": [
    {
     "data": {
      "text/plain": [
       "array([2.16539000e+05, 2.50000000e+03, 1.00000000e+00, 4.32975000e+05,\n",
       "       6.48179200e+06, 1.03610000e+04, 9.38641016e+03])"
      ]
     },
     "execution_count": 37,
     "metadata": {},
     "output_type": "execute_result"
    }
   ],
   "source": [
    "arrs[-1]"
   ]
  },
  {
   "cell_type": "code",
   "execution_count": 39,
   "id": "3fe477dd",
   "metadata": {},
   "outputs": [],
   "source": [
    "header =\"PETREL: Properties\\n7\\n\\ni_index unit1 scale1\\nj_index unit1 scale1\\nk_index unit1 scale1\\nx_coord unit1 scale1\\ny_coord unit1 scale1\\nz_coord unit1 scale1\\nP-Impedance unit1 scale1\\n\"\n",
    "np.savetxt(\"data.txt\", arrs,header=header, comments='', fmt=\"%i %i %i %i %i %i %f\")"
   ]
  },
  {
   "cell_type": "code",
   "execution_count": 9,
   "id": "08712891",
   "metadata": {},
   "outputs": [
    {
     "name": "stdout",
     "output_type": "stream",
     "text": [
      "Trace sequence number within line: 0\n",
      "151 samples, dtype=float32, 250.00 Hz\n"
     ]
    },
    {
     "data": {
      "image/png": "[encoded data removed]",
      "text/plain": [
       "<Figure size 1152x144 with 1 Axes>"
      ]
     },
     "metadata": {
      "needs_background": "light"
     },
     "output_type": "display_data"
    }
   ],
   "source": [
    "one_trace = stream.traces[100]\n",
    "\n",
    "#Print out details single trace\n",
    "print(one_trace)\n",
    "\n",
    "#Plot a single trace to see everything looks okay\n",
    "plt.figure(figsize=(16,2))\n",
    "plt.plot(one_trace.data)\n",
    "plt.show()"
   ]
  },
  {
   "cell_type": "code",
   "execution_count": 9,
   "id": "4236c7da",
   "metadata": {},
   "outputs": [
    {
     "data": {
      "text/plain": [
       "trace_sequence_number_within_line: 0\n",
       "trace_sequence_number_within_segy_file: 0\n",
       "original_field_record_number: 9961\n",
       "trace_number_within_the_original_field_record: 0\n",
       "energy_source_point_number: 0\n",
       "ensemble_number: 1961\n",
       "trace_number_within_the_ensemble: 0\n",
       "trace_identification_code: 0\n",
       "number_of_vertically_summed_traces_yielding_this_trace: 0\n",
       "number_of_horizontally_stacked_traces_yielding_this_trace: 0\n",
       "data_use: 0\n",
       "distance_from_center_of_the_source_point_to_the_center_of_the_receiver_group: 0\n",
       "receiver_group_elevation: 0\n",
       "surface_elevation_at_source: 0\n",
       "source_depth_below_surface: 0\n",
       "datum_elevation_at_receiver_group: 0\n",
       "datum_elevation_at_source: 0\n",
       "water_depth_at_source: 0\n",
       "water_depth_at_group: 0\n",
       "scalar_to_be_applied_to_all_elevations_and_depths: 0\n",
       "scalar_to_be_applied_to_all_coordinates: 0\n",
       "source_coordinate_x: 438302\n",
       "source_coordinate_y: 6475310\n",
       "group_coordinate_x: 0\n",
       "group_coordinate_y: 0\n",
       "coordinate_units: 0\n",
       "weathering_velocity: 0\n",
       "subweathering_velocity: 0\n",
       "uphole_time_at_source_in_ms: 0\n",
       "uphole_time_at_group_in_ms: 0\n",
       "source_static_correction_in_ms: 0\n",
       "group_static_correction_in_ms: 0\n",
       "total_static_applied_in_ms: 0\n",
       "lag_time_A: 2400\n",
       "lag_time_B: 3000\n",
       "delay_recording_time: 0\n",
       "mute_time_start_time_in_ms: 0\n",
       "mute_time_end_time_in_ms: 0\n",
       "number_of_samples_in_this_trace: 151\n",
       "sample_interval_in_ms_for_this_trace: 4000\n",
       "gain_type_of_field_instruments: 0\n",
       "instrument_gain_constant: 0\n",
       "instrument_early_or_initial_gain: 0\n",
       "correlated: 0\n",
       "sweep_frequency_at_start: 0\n",
       "sweep_frequency_at_end: 0\n",
       "sweep_length_in_ms: 0\n",
       "sweep_type: 0\n",
       "sweep_trace_taper_length_at_start_in_ms: 0\n",
       "sweep_trace_taper_length_at_end_in_ms: 0\n",
       "taper_type: 0\n",
       "alias_filter_frequency: 0\n",
       "alias_filter_slope: 0\n",
       "notch_filter_frequency: 0\n",
       "notch_filter_slope: 0\n",
       "low_cut_frequency: 0\n",
       "high_cut_frequency: 0\n",
       "low_cut_slope: 0\n",
       "high_cut_slope: 0\n",
       "year_data_recorded: 0\n",
       "day_of_year: 0\n",
       "hour_of_day: 0\n",
       "minute_of_hour: 0\n",
       "second_of_minute: 0\n",
       "time_basis_code: 0\n",
       "trace_weighting_factor: 0\n",
       "geophone_group_number_of_roll_switch_position_one: 0\n",
       "geophone_group_number_of_trace_number_one: 0\n",
       "geophone_group_number_of_last_trace: 0\n",
       "gap_size: 0\n",
       "over_travel_associated_with_taper: 0\n",
       "x_coordinate_of_ensemble_position_of_this_trace: 0\n",
       "y_coordinate_of_ensemble_position_of_this_trace: 0\n",
       "for_3d_poststack_data_this_field_is_for_in_line_number: 0\n",
       "for_3d_poststack_data_this_field_is_for_cross_line_number: 0\n",
       "shotpoint_number: 0\n",
       "scalar_to_be_applied_to_the_shotpoint_number: 0\n",
       "trace_value_measurement_unit: 0\n",
       "transduction_constant_mantissa: 0\n",
       "transduction_constant_exponent: 0\n",
       "transduction_units: 0\n",
       "device_trace_identifier: 0\n",
       "scalar_to_be_applied_to_times: 0\n",
       "source_type_orientation: 0\n",
       "source_energy_direction_mantissa: 0\n",
       "source_energy_direction_exponent: 0\n",
       "source_measurement_mantissa: 0\n",
       "source_measurement_exponent: 0\n",
       "source_measurement_unit: 0\n"
      ]
     },
     "execution_count": 9,
     "metadata": {},
     "output_type": "execute_result"
    }
   ],
   "source": [
    "#Here is the header information - for one trace\n",
    "stream.traces[0].header"
   ]
  },
  {
   "cell_type": "markdown",
   "id": "58423f5e",
   "metadata": {},
   "source": [
    "# C. Write out the text data as segy"
   ]
  },
  {
   "cell_type": "code",
   "execution_count": 10,
   "id": "0c702685",
   "metadata": {},
   "outputs": [
    {
     "name": "stdout",
     "output_type": "stream",
     "text": [
      "13192\n"
     ]
    }
   ],
   "source": [
    "# Group all the text traces by their the i-j coordinates\n",
    "groups=df.groupby(['i','j'])\n",
    "print(len(groups))\n",
    "\n",
    "#Here I notice there are only 13192 traces in the text data, compared with the 216540 in the segy data..."
   ]
  },
  {
   "cell_type": "code",
   "execution_count": 11,
   "id": "6112dda8",
   "metadata": {},
   "outputs": [
    {
     "name": "stdout",
     "output_type": "stream",
     "text": [
      "Stream object before writing...\n",
      "13192 Trace(s) in Stream:\n",
      "\n",
      "... | 1970-01-01T00:00:00.000000Z - 1970-01-01T00:00:02.990000Z | 100.0 Hz, 300 samples\n",
      "...\n",
      "(13190 other traces)\n",
      "...\n",
      "... | 1970-01-01T00:00:00.000000Z - 1970-01-01T00:00:02.990000Z | 100.0 Hz, 300 samples\n",
      "\n",
      "[Use \"print(Stream.__str__(extended=True))\" to print all Traces]\n",
      "Stream object after writing. Will have some segy attributes...\n",
      "13192 Trace(s) in Stream:\n",
      "\n",
      "Seq. No. in line:    0 | 1970-01-01T00:00:00.000000Z - 1970-01-01T00:00:02.990000Z | 100.0 Hz, 300 samples\n",
      "...\n",
      "(13190 other traces)\n",
      "...\n",
      "Seq. No. in line:    0 | 1970-01-01T00:00:00.000000Z - 1970-01-01T00:00:02.990000Z | 100.0 Hz, 300 samples\n",
      "\n",
      "[Use \"print(Stream.__str__(extended=True))\" to print all Traces]\n",
      "CPU times: total: 7.55 s\n",
      "Wall time: 7.52 s\n"
     ]
    }
   ],
   "source": [
    "%%time\n",
    "\n",
    "#Make a stream object (flush it out to begin because we have used this variable names for demos)\n",
    "stream_out = None \n",
    "stream_out = Stream()\n",
    "\n",
    "#not sure how to group the trace ensembles but can use a counter to keep track of them\n",
    "ensemble_number = 0\n",
    "       \n",
    "for ids,df_trace in groups:\n",
    "    #ids are the i, j coordinate locations\n",
    "    #trc is the subset of the full dataframe for just that i-j location\n",
    "\n",
    "    #For each i-j location, a trace is impdence at all the depth values, i.e.\n",
    "    data = df_trace.p.values\n",
    "\n",
    "    # Enforce correct byte number and set to the Trace object\n",
    "    data = np.require(data, dtype=np.float32)\n",
    "    trace = Trace(data=data)\n",
    "\n",
    "    # Set all the segy header information\n",
    "    # Attributes in trace.stats will overwrite everything in trace.stats.segy.trace_header\n",
    "    trace.stats.delta = 0.01\n",
    "    trace.stats.starttime = UTCDateTime(1970,1,1,0,0,0)\n",
    "\n",
    "    # If you want to set some additional attributes in the trace header,\n",
    "    # add one and only set the attributes you want to be set. Otherwise the\n",
    "    # header will be created for you with default values.\n",
    "    if not hasattr(trace.stats, 'segy.trace_header'):\n",
    "        trace.stats.segy = {}\n",
    "\n",
    "    trace.stats.segy.trace_header = SEGYTraceHeader()\n",
    "\n",
    "#         trace.stats.segy.trace_header.trace_sequence_number_within_line = index + 1\n",
    "#         trace.stats.segy.trace_header.receiver_group_elevation = 0\n",
    "    trace.stats.segy.trace_header.source_coordinate_x = int(df_trace.x.values[0])\n",
    "    trace.stats.segy.trace_header.source_coordinate_y = int(df_trace.y.values[0])\n",
    "    trace.stats.segy.trace_header.ensemble_number = ensemble_number #Not sure how this is actually determined\n",
    "    trace.stats.segy.trace_header.lag_time_A = 2400\n",
    "    trace.stats.segy.trace_header.lag_time_B = 3000\n",
    "    trace.stats.segy.trace_header.number_of_samples_in_this_trace = len(data)\n",
    "\n",
    "    ensemble_number +=1\n",
    "\n",
    "    # Add trace to stream\n",
    "    stream_out.append(trace)\n",
    "\n",
    "# A SEGY file has file wide headers. This can be attached to the stream\n",
    "# object.  If these are not set, they will be autocreated with default\n",
    "# values.\n",
    "stream_out.stats = AttribDict()\n",
    "stream_out.stats.textual_file_header = 'Textual Header!'\n",
    "stream_out.stats.binary_file_header = SEGYBinaryFileHeader()\n",
    "stream_out.stats.binary_file_header.trace_sorting_code = 5\n",
    "# stream.stats.binary_file_header.number_of_data_traces_per_ensemble=1\n",
    "\n",
    "print(\"Stream object before writing...\")\n",
    "print(stream_out)\n",
    "\n",
    "stream_out.write(\"TEST.sgy\", format=\"SEGY\", data_encoding=1, byteorder=sys.byteorder)\n",
    "\n",
    "print(\"Stream object after writing. Will have some segy attributes...\")\n",
    "print(stream_out)\n"
   ]
  },
  {
   "cell_type": "code",
   "execution_count": 12,
   "id": "aa0d9b04",
   "metadata": {},
   "outputs": [
    {
     "name": "stdout",
     "output_type": "stream",
     "text": [
      "Reading using obspy.io.segy...\n",
      "13192 traces in the SEG Y structure.\n",
      "(13192,)\n"
     ]
    },
    {
     "data": {
      "text/plain": [
       "13192 traces in the SEG Y structure."
      ]
     },
     "execution_count": 12,
     "metadata": {},
     "output_type": "execute_result"
    }
   ],
   "source": [
    "#Now check it\n",
    "print(\"Reading using obspy.io.segy...\")\n",
    "st1 = _read_segy(\"TEST.sgy\")\n",
    "print(st1)\n",
    "\n",
    "print(np.shape(st1.traces))\n",
    "st1"
   ]
  },
  {
   "cell_type": "code",
   "execution_count": 13,
   "id": "8f9a13e8",
   "metadata": {},
   "outputs": [
    {
     "name": "stdout",
     "output_type": "stream",
     "text": [
      "Trace sequence number within line: 0\n",
      "300 samples, dtype=float32, 100.00 Hz\n"
     ]
    },
    {
     "data": {
      "image/png": "[encoded data removed]",
      "text/plain": [
       "<Figure size 1152x144 with 1 Axes>"
      ]
     },
     "metadata": {
      "needs_background": "light"
     },
     "output_type": "display_data"
    }
   ],
   "source": [
    "one_trace = st1.traces[0]\n",
    "\n",
    "#Print out details single trace\n",
    "print(one_trace)\n",
    "\n",
    "#Plot a single trace\n",
    "plt.figure(figsize=(16,2))\n",
    "plt.plot(one_trace.data)\n",
    "plt.show()"
   ]
  },
  {
   "cell_type": "markdown",
   "id": "d56b961d",
   "metadata": {},
   "source": [
    "# Bonus - why is there a data discrepency\n",
    "I would have expected the traces from the segy data and from the gslib data to match up.\n",
    "But there are only 13192 traces in the text data and 216540 in the segy data.\n",
    "Something weird is going. I can plot these side by side and see if some data are missing."
   ]
  },
  {
   "cell_type": "code",
   "execution_count": 14,
   "id": "2ff1e526",
   "metadata": {},
   "outputs": [],
   "source": [
    "xx=[]\n",
    "yy=[]\n",
    "for i in range(len(stream.traces)):\n",
    "    xx.append(stream.traces[i].header.source_coordinate_x)\n",
    "    yy.append(stream.traces[i].header.source_coordinate_y)  "
   ]
  },
  {
   "cell_type": "code",
   "execution_count": 15,
   "id": "1e18c3ad",
   "metadata": {},
   "outputs": [
    {
     "data": {
      "text/plain": [
       "<matplotlib.collections.PathCollection at 0x2d03be3b550>"
      ]
     },
     "execution_count": 15,
     "metadata": {},
     "output_type": "execute_result"
    },
    {
     "data": {
      "image/png": "[encoded data removed]",
      "text/plain": [
       "<Figure size 432x288 with 1 Axes>"
      ]
     },
     "metadata": {
      "needs_background": "light"
     },
     "output_type": "display_data"
    }
   ],
   "source": [
    "plt.scatter(xx,yy)\n",
    "plt.scatter(df.x,df.y)"
   ]
  },
  {
   "cell_type": "markdown",
   "id": "89a909c6",
   "metadata": {},
   "source": [
    "At first glance this seems ok. The data coverage is over the same area, the edges are missing buuuuut zooming in we can see the text data is not as dense as the segy data. Problem solved."
   ]
  },
  {
   "cell_type": "code",
   "execution_count": 16,
   "id": "cab98b07",
   "metadata": {},
   "outputs": [
    {
     "data": {
      "text/plain": [
       "(433000.0, 434000.0)"
      ]
     },
     "execution_count": 16,
     "metadata": {},
     "output_type": "execute_result"
    },
    {
     "data": {
      "image/png": "[encoded data removed]",
      "text/plain": [
       "<Figure size 432x288 with 1 Axes>"
      ]
     },
     "metadata": {
      "needs_background": "light"
     },
     "output_type": "display_data"
    }
   ],
   "source": [
    "plt.scatter(xx,yy,s=0.1)\n",
    "plt.scatter(df.x,df.y,s=0.1)\n",
    "\n",
    "plt.xlim([433000,434000])\n",
    "# plt.ylim([433000,434000])"
   ]
  },
  {
   "cell_type": "code",
   "execution_count": null,
   "id": "ea17499b",
   "metadata": {},
   "outputs": [],
   "source": []
  }
 ],
 "metadata": {
  "kernelspec": {
   "display_name": "Python 3 (ipykernel)",
   "language": "python",
   "name": "python3"
  },
  "language_info": {
   "codemirror_mode": {
    "name": "ipython",
    "version": 3
   },
   "file_extension": ".py",
   "mimetype": "text/x-python",
   "name": "python",
   "nbconvert_exporter": "python",
   "pygments_lexer": "ipython3",
   "version": "3.9.13"
  }
 },
 "nbformat": 4,
 "nbformat_minor": 5
}
