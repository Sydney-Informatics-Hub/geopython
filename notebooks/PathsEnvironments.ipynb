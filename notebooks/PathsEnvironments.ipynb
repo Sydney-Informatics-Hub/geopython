{
 "cells": [
  {
   "cell_type": "markdown",
   "id": "3a933b84-4d5b-4d30-9c48-2039b5bfecdb",
   "metadata": {},
   "source": [
    "### Path and Environments \n",
    "\n",
    "#### Core ideas:\n",
    " - 1. Directory structure navigation.\n",
    " - 2. Conda environment(s)."
   ]
  },
  {
   "cell_type": "code",
   "execution_count": null,
   "id": "464205ad-7210-45b0-ac0a-4bb4cbe1dfd0",
   "metadata": {},
   "outputs": [],
   "source": [
    "# You can run system commands from a Jupyter notebook with '!'\n",
    "\n",
    "# Unix system\n",
    "!pwd\n",
    "\n",
    "# Windows system\n",
    "!cd"
   ]
  },
  {
   "cell_type": "markdown",
   "id": "b35fe01a-b009-4f9f-97a6-558562b9d1fb",
   "metadata": {},
   "source": [
    "##### To open a data file hard drive it's ESSENTIAL to know it's exact path.\n",
    "\n",
    "Core ideas:\n",
    "   1. Relative paths.\n",
    "   2. Absolute paths.\n",
    "   3. Error Messages."
   ]
  },
  {
   "cell_type": "code",
   "execution_count": null,
   "id": "e83c0af5-e469-4223-b4fa-07e0a0878b4a",
   "metadata": {},
   "outputs": [],
   "source": [
    "import numpy as np\n",
    "rel_path = np.loadtxt(\"./data/EarthChemCU.txt\", delimiter=',')\n",
    "abs_path = np.loadtxt(\"/home/julian/Desktop/geopy/data/EarthChemCU.txt\", delimiter=',')"
   ]
  },
  {
   "cell_type": "code",
   "execution_count": null,
   "id": "a00154de-5ddd-45c5-ba02-72540f4c25e7",
   "metadata": {},
   "outputs": [],
   "source": [
    "# ERROR, read error message\n",
    "bad_path = np.loadtxt(\"../data/EarthChemCU.txt\", delimiter=',')"
   ]
  },
  {
   "cell_type": "code",
   "execution_count": null,
   "id": "e4a6169f-244a-4fb8-99bd-21044df1d835",
   "metadata": {},
   "outputs": [],
   "source": [
    "## For windows: FICTIONAL paths to illustrate my point\n",
    "\n",
    "rel_path = './Download/geo course/data/EarthChemCU.txt'\n",
    "abs_path = 'C:/Users/jgio5642/Downloads/geo course/data/EarthChemCU.txt'\n",
    "win_path = r'C:\\Users\\jgio5642\\Download\\geo course\\data\\EarthChemCU.txt'\n",
    "\n",
    "# The 'r' make a raw string - important because '\\U' is a special python reserved character."
   ]
  },
  {
   "cell_type": "code",
   "execution_count": null,
   "id": "150b4348-d558-4526-ab94-73857e3b7208",
   "metadata": {},
   "outputs": [],
   "source": [
    "# programming method: to make paths useable\n",
    "import glob\n",
    "file = glob.glob('**/*.txt', recursive=True)\n",
    "file"
   ]
  },
  {
   "cell_type": "code",
   "execution_count": null,
   "id": "7920398d-fc5f-4dad-afa3-7ad61844d5db",
   "metadata": {},
   "outputs": [],
   "source": [
    "# the initial file we wanted\n",
    "file[0]"
   ]
  },
  {
   "cell_type": "code",
   "execution_count": null,
   "id": "e0b20c82-0bf6-4551-87e9-67353e535d88",
   "metadata": {},
   "outputs": [],
   "source": [
    "# A full proof way of find files is to use \"tab completion\"\n",
    "\n",
    "path = './data/EarthChemCU.txt'"
   ]
  },
  {
   "cell_type": "markdown",
   "id": "c4be83da-b4fb-48b7-b593-1960ebbe807d",
   "metadata": {},
   "source": [
    "***\n",
    "#### Conda environments\n",
    "\n",
    "* Conda is a \"python\" environment manager. Managing packages (python / R / C / Fortran, etc.) and dependencies.\n",
    "\n",
    "* Different styles of conda exist: anaconda, miniconda, mamba, etc, but interface is the same. (Difference is default packages and internal dependency calculations).\n",
    "\n",
    "* Conda can be available system-wide, or just per user.\n",
    "    - In session 1 we downloaded our own i.e. per user)\n",
    "    - I suspect some are using older or system installs from debugging.\n",
    "<br>\n",
    "<br>\n",
    "* Conda is designed to have many envrionments that can be switch in and out. "
   ]
  },
  {
   "cell_type": "code",
   "execution_count": null,
   "id": "78aca28f-4499-4040-bbac-573783761d84",
   "metadata": {},
   "outputs": [],
   "source": [
    "# Find what conda environments you have available\n",
    "!conda info --env"
   ]
  },
  {
   "cell_type": "code",
   "execution_count": null,
   "id": "c1451f18-43cb-4aab-92a3-6ebd0c150e6a",
   "metadata": {},
   "outputs": [],
   "source": [
    "# Find infomation about your conda installation - important if you change computers\n",
    "!conda info"
   ]
  },
  {
   "cell_type": "code",
   "execution_count": null,
   "id": "645bcb13-1451-40e0-9e42-8bd45754dcab",
   "metadata": {},
   "outputs": [],
   "source": [
    "# Find what python packages are `import'-able\n",
    "!conda list\n",
    "\n",
    "# Very similar to the pip list. The underlying python package manager\n",
    "#!pip list"
   ]
  },
  {
   "cell_type": "code",
   "execution_count": null,
   "id": "0eac9ebe-8e47-4e38-8316-2c0fceb38f6e",
   "metadata": {},
   "outputs": [],
   "source": [
    "# Very similar to the pip list if you're familiar with pip\n",
    "!conda env export --from-history\n",
    "\n",
    "# This information could be copied into a file and used to download the same packages - this is how we created the initial environment in session 1."
   ]
  },
  {
   "cell_type": "code",
   "execution_count": null,
   "id": "0fe20d63-622a-4a0a-9b25-c44c965052cb",
   "metadata": {},
   "outputs": [],
   "source": [
    "# To download other packages\n",
    "!conda search emoji\n",
    "\n",
    "# if a package doesn't exist in the regular package channels, use '-c'\n",
    "#!conda search -c conda-forge emoji"
   ]
  },
  {
   "cell_type": "code",
   "execution_count": null,
   "id": "ccac41e7-0309-4d36-9ee3-7139124608f7",
   "metadata": {},
   "outputs": [],
   "source": [
    "# To install a package by name, (required \"-y\")\n",
    "!conda install emoji -y"
   ]
  },
  {
   "cell_type": "code",
   "execution_count": null,
   "id": "faa71de0-7895-410f-8d11-03b2f983caad",
   "metadata": {},
   "outputs": [],
   "source": [
    "import emoji"
   ]
  },
  {
   "cell_type": "code",
   "execution_count": null,
   "id": "b4d92e18-a0ed-4890-812e-cb16bf9a56c8",
   "metadata": {},
   "outputs": [],
   "source": [
    "print(emoji.emojize(\"Python is fun :thumbs_up: :red_heart: :winking_face:\"))"
   ]
  },
  {
   "cell_type": "code",
   "execution_count": null,
   "id": "25c02a0b-19af-453a-82a5-782137c7b8ca",
   "metadata": {},
   "outputs": [],
   "source": [
    "# To remove a package - take a LONG time\n",
    "!conda remove emoji -y"
   ]
  },
  {
   "cell_type": "code",
   "execution_count": null,
   "id": "7a1b3f0d-a66d-4f62-b7e4-740ed74541f4",
   "metadata": {},
   "outputs": [],
   "source": [
    "!conda list | grep emoji"
   ]
  }
 ],
 "metadata": {
  "kernelspec": {
   "display_name": "Python 3 (ipykernel)",
   "language": "python",
   "name": "python3"
  },
  "language_info": {
   "codemirror_mode": {
    "name": "ipython",
    "version": 3
   },
   "file_extension": ".py",
   "mimetype": "text/x-python",
   "name": "python",
   "nbconvert_exporter": "python",
   "pygments_lexer": "ipython3",
   "version": "3.9.17"
  }
 },
 "nbformat": 4,
 "nbformat_minor": 5
}
