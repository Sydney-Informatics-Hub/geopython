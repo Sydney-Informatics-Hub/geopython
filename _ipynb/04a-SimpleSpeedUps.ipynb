{
 "cells": [
  {
   "cell_type": "markdown",
   "metadata": {},
   "source": [
    "# Efficient Python methods\n",
    "\n",
    "\n",
    "<div class=\"questions\">  \n",
    "### Questions\n",
    "\n",
    "- \"Which method for acceleration should I choose?\"\n",
    "- \"How do I utilise traditional python approaches to multi cpu and nodes\"\n",
    "</div>\n",
    "\n",
    "<div class=\"objectives\">  \n",
    "### Objectives\n",
    "\n",
    "- \"Learn simples methods to profile your code\"\n",
    "- \"See how numpy and pandas use Vectorising to improve performance for some data\"\n",
    "- \"Use MPI to communicate between workers\"\n",
    "- \"Discover python multiprocessing and mpi execution\"\n",
    "</div>"
   ]
  },
  {
   "cell_type": "markdown",
   "metadata": {},
   "source": [
    "In this session we will show you a few of the basic tools that we can use in Python to make our code go faster. There is no perfect method for optimising code. Efficiency gains depend on what your end goal is, what libraries are available, what method or approach you want to take when writing algorithms, what your data is like, what hardware you have. Hopefully these notes will allow you to think about your problems from different perspectives to give you the best opportunity to make your development and execution as efficient as possible.\n",
    "\n",
    "## Acceleration, Parallelisation, Vectorising, Threading, make-Python-go-fast \n",
    "\n",
    "We will cover a few of the ways that you can potentially speed up Python. As we will learn there are multitudes of methods to make Python code more efficient, and also different implementations of libraries, tools, techniques that can all be utilised depending on how your code and/or data is organised. This is a rich and evolving ecosystem and there is no one perfect way to implement efficiencies.\n",
    "\n",
    "Some key words that might come up:\n",
    "\n",
    "* Vectorisation\n",
    "* MPI message parsing interface\n",
    "* CPU, core, node, thread, process, worker, job, task\n",
    "* Parallelisation\n",
    "* Python decorators and functional programming.\n",
    "\n",
    "<br>\n",
    "\n",
    "### What does *parallel* mean?\n",
    "Separate workers or processes acting in an independent or semi-dependent manner. Independent processes ship data, program files and libraries to an isolated ecosystem where computation is performed. In this case communication between workers can be achieved. Contrastingly there are also shared memory set ups where multiple computational resources are pooled together to work on the same data. \n",
    "\n",
    "Generally speaking, parallel workflows fit different categories of data handling which can make you think about how to write your code and what approaches to take.\n",
    "\n",
    "#### Embarrassingly parallel:\n",
    "Requires no communication between processors. Utilise shared memory spaces. For example:\n",
    "\n",
    "* Running same algorithm for a range of input parameters.\n",
    "* Rendering video frames in computer animation.\n",
    "* Open MP implementations.\n",
    "\n",
    "#### Coarse/Fine-grained parallel:\n",
    "Requires occasional or frequent communication between processors. Uses a small number of processes on large data. Fine grain uses a large number of small processes with very little communication. But can improves computationally bound problems. For example:\n",
    "\n",
    "* Some examples are \n",
    "* Finite difference time-stepping on parallel grid.\n",
    "* Finite element methods.\n",
    "* Parallel tempering and MCMC.\n",
    "* MPI implementations.\n",
    "\n",
    "Traditional implementations of parallelism  are done on a low level. However, open source software has ***evolved*** dramatically over the last few years allowing more ***high level implementations and concise 'pythonic' syntax*** that wraps around low level tools. \n",
    "\n",
    "<br>\n",
    "\n",
    "## Profiling your code\n",
    "\n",
    "Before you get stuck into making things fast, it is important to find out what is exactly slow in your code. Is it a particular function running slow? Or are you calling a really fast function a million times? You can save yourself a lot development time by profiling your code to give you an idea for where efficiencies can be found. Try out Jupyter's ```%%timeit``` magic function."
   ]
  },
  {
   "cell_type": "code",
   "execution_count": 1,
   "metadata": {
    "lines_to_next_cell": 0
   },
   "outputs": [
    {
     "name": "stdout",
     "output_type": "stream",
     "text": [
      "1.01 s ± 2.63 ms per loop (mean ± std. dev. of 7 runs, 1 loop each)\n"
     ]
    }
   ],
   "source": [
    "%%timeit\n",
    "import time\n",
    "time.sleep(1)"
   ]
  },
  {
   "cell_type": "markdown",
   "metadata": {},
   "source": [
    "A neat little feature to check how fast some of your cells are running.\n",
    "Now let's profile a simple Python script and then think about how we could make it faster.\n",
    "Put this code in a script (save it as ```faster.py```):"
   ]
  },
  {
   "cell_type": "code",
   "execution_count": 2,
   "metadata": {},
   "outputs": [
    {
     "name": "stdout",
     "output_type": "stream",
     "text": [
      "Hello, try timing some parts of this code!\n",
      "waiting for 1 second\n",
      "adding 4 and 7\n",
      "adding 3 and 1\n"
     ]
    }
   ],
   "source": [
    "#A test function to see how you can profile code for speedups\n",
    "\n",
    "import time\n",
    "\n",
    "def waithere():\n",
    "\tprint(\"waiting for 1 second\")\n",
    "\ttime.sleep(1)\n",
    "\n",
    "def add2(a=0,b=0):\n",
    "\tprint(\"adding\", a, \"and\", b)\n",
    "\treturn(a+b)\n",
    "\n",
    "def main():\n",
    "\tprint(\"Hello, try timing some parts of this code!\")\n",
    "\twaithere()\t\n",
    "\tadd2(4,7)\n",
    "\tadd2(3,1)\n",
    "    \n",
    "if __name__=='__main__':\n",
    "\tmain()"
   ]
  },
  {
   "cell_type": "markdown",
   "metadata": {},
   "source": [
    "There are several ways to debug and profile Python, a very elegant and built in one is [cProfile](https://docs.python.org/3/library/profile.html)\n",
    "It analyses your code as it executes. Run it with ```python -m cProfile faster.py```  and see the output of the script and the profiling:\n",
    "\n",
    "```\n",
    "Hello, try timing some parts of this code!\n",
    "waiting for 1 second\n",
    "adding 4 and 7\n",
    "adding 3 and 1\n",
    "\n",
    "12 function calls in 1.008 seconds\n",
    "\n",
    "Ordered by: standard name\n",
    "\n",
    "ncalls  tottime  percall  cumtime  percall filename:lineno(function)\n",
    "1    0.000    0.000    1.008    1.008 faster.py:12(main)\n",
    "1    0.000    0.000    1.008    1.008 faster.py:2(<module>)\n",
    "1    0.000    0.000    1.002    1.002 faster.py:4(waithere)\n",
    "2    0.000    0.000    0.005    0.003 faster.py:8(add2)\n",
    "1    0.000    0.000    1.008    1.008 {built-in method builtins.exec}\n",
    "4    0.007    0.002    0.007    0.002 {built-in method builtins.print}\n",
    "1    1.001    1.001    1.001    1.001 {built-in method time.sleep}\n",
    "1    0.000    0.000    0.000    0.000 {method 'disable' of '_lsprof.Profiler' objects}\n",
    "```"
   ]
  },
  {
   "cell_type": "markdown",
   "metadata": {},
   "source": [
    "You can now interrogate your code and see where you should devote your time to improving it.\n",
    "\n",
    "Special note on style: Developing python software in a ***modular*** manner assists with debugging and time profiling. This is a bit different to the sequential notebooks we have been creating. But re-writing certain snippets in self-contained functions can be a fun task.\n",
    "\n",
    "## Exercise\n",
    "Revisit some of the codes we have run previously. You can do this from a Jupyter Notebook by clicking ```File > Downlad as > Python (.py)```. You may need to comment-out some sections, espiecially where figures are displayed, to get them to run. Run it using **cProfile** and look at the results. Can you identify where improvements could be made?\n",
    "\n",
    "<br>\n",
    "\n",
    "## Loops and vectorising code with numpy and pandas\n",
    "\n",
    "Your problem might be solved by using the fast way certain packages handle certain datatypes. \n",
    "\n",
    "Generally speaking, pandas and numpy libraries should be libraries you frequently use. They offer advantages in high performance computing including:\n",
    "1. Efficient datastructures that under the hood are implemented in fast C code rather than python.\n",
    "2. Promoting explicit use of datatype declarations - making memory management of data and functions working on this data, faster.\n",
    "3. Elegant syntax promoting consice behaviour. \n",
    "4. Data structures come with common built in functions that are designed to be used in a vectorised way.\n",
    "\n",
    "Lets explore this last point on vectorisation with an example. Take this nested for loop example:"
   ]
  },
  {
   "cell_type": "code",
   "execution_count": 1,
   "metadata": {},
   "outputs": [],
   "source": [
    "#import packages\n",
    "import numpy as np\n",
    "import pandas as pd\n",
    "import time \n",
    "\n",
    "#Create some fake data to work with\n",
    "Samples = pd.DataFrame(np.random.randint(0,100,size=(1000, 4)), columns=list(['Alpha','Beta','Gamma','Delta']))\n",
    "Wells = pd.DataFrame(np.random.randint(0,100,size=(50, 1)), columns=list(['Alpha']))\n",
    "\n",
    "#This could perhaps be the id of a well and the list of samples found in the well. \n",
    "#You want to match up the samples with some other list, \n",
    "#perhaps the samples from some larger database like PetDB.\n",
    "\n",
    "#Create an emtpy dataframe to fill with the resulting matches\n",
    "totalSlow=pd.DataFrame(columns=Samples.columns)\n",
    "totalFast=pd.DataFrame(columns=Samples.columns)"
   ]
  },
  {
   "cell_type": "code",
   "execution_count": 2,
   "metadata": {},
   "outputs": [
    {
     "name": "stdout",
     "output_type": "stream",
     "text": [
      "Nested-loop Runtime: 4.68686056137085 seconds\n"
     ]
    }
   ],
   "source": [
    "#Now compare the nested for-loop method:\n",
    "\n",
    "tic=time.time()\n",
    "for index,samp in Samples.iterrows():\n",
    "    for index2,well in Wells.iterrows():\n",
    "        if well['Alpha']==samp['Alpha']:\n",
    "            totalSlow=totalSlow.append(samp,ignore_index=True)\n",
    "            \n",
    "totalSlow=totalSlow.drop_duplicates()\n",
    "toc=time.time()\n",
    "print(\"Nested-loop Runtime:\",toc-tic, \"seconds\")\n"
   ]
  },
  {
   "cell_type": "code",
   "execution_count": 3,
   "metadata": {},
   "outputs": [
    {
     "name": "stdout",
     "output_type": "stream",
     "text": [
      "Vectorized Runtime: 0.00400090217590332 seconds\n"
     ]
    }
   ],
   "source": [
    "#Or the vectorised method:\n",
    "\n",
    "tic=time.time()\n",
    "totalFast=Samples[Samples['Alpha'].isin(Wells.Alpha.tolist())]\n",
    "totalFast=totalSlow.drop_duplicates()\n",
    "toc=time.time()\n",
    "print(\"Vectorized Runtime:\",toc-tic, \"seconds\")\n"
   ]
  },
  {
   "cell_type": "markdown",
   "metadata": {},
   "source": [
    "Which one is faster? Note the use of some really basic timing functions, these can help you understand the speed of your code."
   ]
  },
  {
   "cell_type": "markdown",
   "metadata": {},
   "source": [
    "## Python Multiprocessing\n",
    "\n",
    "From within Python you may need a flexible way to manage computational resources. This is traditionally done with the ***multiprocessing*** library. \n",
    "\n",
    "With multiprocessing, Python creates new processes. A process here can be thought of as almost a completely different program, though technically they are usually defined as a collection of resources where the resources include memory, file handles and things like that. \n",
    "\n",
    "One way to think about it is that each ***process runs in its own Python interpreter***, and multiprocessing farms out parts of your program to run on each process.\n",
    "\n",
    "### Some terminology - Processes, threads and shared memory\n",
    "A ***process*** is a collection of resources including program files and memory, that operates as an independent entity. Since each process has a seperate memory space, it can operate independently from other processes. It cannot easily access shared data in other processes.\n",
    "\n",
    "A ***thread*** is the unit of execution within a process. A process can have anywhere from just one thread to many threads. Threads are considered lightweight because they use far less resources than processes. Threads also share the same memory space so are not independent.\n",
    "\n",
    "![SegmentLocal](./fig/process_v_thread.png \"segment\")\n",
    "\n",
    "![SegmentLocal](./fig/process_threads_comparison.png \"segment\")\n",
    "\n",
    "Back to python, the multiprocessing library was designed to break down the **Global Interpreter Lock (GIL)** that limits one thread to control the Python interpreter. \n",
    "\n",
    "In Python, the things that are occurring simultaneously are called by different names (thread, task, process). While they all fall under the definition of concurrency (multiple things happening anaologous to different trains of thought), only multiprocessing actually runs these trains of thought at literally the same time. We will only cover multiprocessing here which assists in CPU bound operations - but keep in mind other methods exist (threading), whose implementation tends to be more low level. \n",
    "\n",
    "## Simple multiprocessing example\n",
    "\n",
    "Some basic concepts in the multiprocessing library are:\n",
    "1. the ```Pool(processes)``` object creates a pool of processes. ```processes``` is the number of worker processes to use (i.e Python interpreters). If ```processes``` is ```None``` then the number returned by ```os.cpu_count()``` is used.\n",
    "2. The ```map(function,list)``` attribute of this object uses the pool to map a defined function to a list/iterator object\n",
    "\n",
    "To implement multiprocessing in its basic form. You can complete this exercise in a notebook or a script.\n",
    "\n"
   ]
  },
  {
   "cell_type": "code",
   "execution_count": 1,
   "metadata": {},
   "outputs": [],
   "source": [
    "#Import the libraries we will need\n",
    "import shapefile\n",
    "import numpy as np\n",
    "import matplotlib.pyplot as plt \n",
    "import multiprocessing\n",
    "import time\n",
    "\n",
    "#Check how many cpus are availble on your computer\n",
    "multiprocessing.cpu_count()\n",
    "\n",
    "#Read in the shapefile that we will use\n",
    "sf = shapefile.Reader(\"../data/platepolygons/topology_platepolygons_0.00Ma.shp\")\n",
    "recs    = sf.records()\n",
    "shapes  = sf.shapes()\n",
    "fields  = sf.fields\n",
    "Nshp    = len(shapes)\n",
    "polygons=np.arange(Nshp)"
   ]
  },
  {
   "cell_type": "code",
   "execution_count": 12,
   "metadata": {},
   "outputs": [
    {
     "name": "stdout",
     "output_type": "stream",
     "text": [
      "Record #10: [0, 0.0, 'Global_EarthByte_230-0Ma_GK07_AREPS_PlateBoundaries.gpml', 'Global_EarthByte_230-0Ma_GK07_AREPS.rot', 911, '', 'gpml:TopologicalClosedPlateBoundary', 0.9, 0.0, 'Nazca Plate', '', 'GPlates-ef2e06a7-4086-4062-9df6-1fa3133f50b8', 0, '', 0, 0, 0.0]\n"
     ]
    },
    {
     "data": {
      "text/plain": [
       "[<matplotlib.lines.Line2D at 0x2b29bc7ed08>]"
      ]
     },
     "execution_count": 12,
     "metadata": {},
     "output_type": "execute_result"
    },
    {
     "data": {
      "image/png": "[encoded data removed]",
      "text/plain": [
       "<Figure size 432x288 with 1 Axes>"
      ]
     },
     "metadata": {
      "needs_background": "light"
     },
     "output_type": "display_data"
    }
   ],
   "source": [
    "#Get some details about the shapefile. Plot one of the polygons.\n",
    "#Let us find the areas of each of the polygons in the shapefile.\n",
    "print(recs[10])\n",
    "\n",
    "polygonShape=shapes[10].points\n",
    "poly=np.array(polygonShape)\n",
    "\n",
    "plt.plot(poly[:,0],poly[:,1])"
   ]
  },
  {
   "cell_type": "code",
   "execution_count": 16,
   "metadata": {},
   "outputs": [],
   "source": [
    "#Implement a function to calcualte the area of a polygon.\n",
    "# Area of Polygon using Shoelace formula\n",
    "# http://en.wikipedia.org/wiki/Shoelace_formula\n",
    "def PolygonArea(nshp):\n",
    "    start_time = time.time()\n",
    "    polygonShape=shapes[nshp].points\n",
    "    corners=np.array(polygonShape)\n",
    "    n = len(corners) # of corners\n",
    "    \n",
    "    #Area calculation using Shoelace forula\n",
    "    area = 0.0\n",
    "    for i in range(n):\n",
    "        j = (i + 1) % n\n",
    "        area += corners[i][0] * corners[j][1]\n",
    "        area -= corners[j][0] * corners[i][1]\n",
    "    area = abs(area) / 2.0\n",
    "    time.sleep(0.2)\n",
    "    \n",
    "    endtime=time.time() - start_time\n",
    "    print(\"Process {} Finished in {:0.4f}s.\".format(nshp,endtime))\n",
    "    return(area)"
   ]
  },
  {
   "cell_type": "code",
   "execution_count": 17,
   "metadata": {},
   "outputs": [
    {
     "name": "stdout",
     "output_type": "stream",
     "text": [
      "Process 0 Finished in 0.2019s.\n",
      "Process 1 Finished in 0.2133s.\n",
      "Process 2 Finished in 0.2097s.\n",
      "Process 3 Finished in 0.2137s.\n",
      "Process 4 Finished in 0.2162s.\n",
      "Process 5 Finished in 0.2106s.\n",
      "Process 6 Finished in 0.2134s.\n",
      "Process 7 Finished in 0.2145s.\n",
      "Process 8 Finished in 0.2117s.\n",
      "Process 9 Finished in 0.2123s.\n",
      "Process 10 Finished in 0.2124s.\n",
      "Process 11 Finished in 0.2139s.\n",
      "Process 12 Finished in 0.2111s.\n",
      "Process 13 Finished in 0.2107s.\n",
      "Process 14 Finished in 0.2138s.\n",
      "Process 15 Finished in 0.2114s.\n",
      "Process 16 Finished in 0.2107s.\n",
      "Process 17 Finished in 0.2134s.\n",
      "Process 18 Finished in 0.2119s.\n",
      "Process 19 Finished in 0.2114s.\n",
      "Process 20 Finished in 0.2129s.\n",
      "Process 21 Finished in 0.2143s.\n",
      "Process 22 Finished in 0.2148s.\n",
      "Process 23 Finished in 0.2125s.\n",
      "Process 24 Finished in 0.2122s.\n",
      "Process 25 Finished in 0.2105s.\n",
      "Process 26 Finished in 0.2138s.\n",
      "Process 27 Finished in 0.2164s.\n",
      "Process 28 Finished in 0.2122s.\n",
      "Process 29 Finished in 0.2112s.\n",
      "Process 30 Finished in 0.2109s.\n",
      "Process 31 Finished in 0.2132s.\n",
      "Process 32 Finished in 0.2136s.\n",
      "Process 33 Finished in 0.2133s.\n",
      "Process 34 Finished in 0.2112s.\n",
      "Process 35 Finished in 0.2135s.\n",
      "Process 36 Finished in 0.2132s.\n",
      "Process 37 Finished in 0.2141s.\n",
      "Process 38 Finished in 0.2104s.\n",
      "Process 39 Finished in 0.2117s.\n",
      "Process 40 Finished in 0.2124s.\n",
      "Process 41 Finished in 0.2125s.\n",
      "Process 42 Finished in 0.2128s.\n",
      "Process 43 Finished in 0.2100s.\n",
      "Process 44 Finished in 0.2148s.\n",
      "Process 45 Finished in 0.2138s.\n",
      "Final Runtime 9.796719074249268\n"
     ]
    }
   ],
   "source": [
    "#Run the function for each polygon/plate in the shapefile:\n",
    "start_time = time.time()\n",
    "Areas1=[]\n",
    "for i in polygons:\n",
    "    Areas1.append(PolygonArea(i))\n",
    "\n",
    "print(\"Final Runtime\", time.time() - start_time)"
   ]
  },
  {
   "cell_type": "markdown",
   "metadata": {},
   "source": [
    "Now we will have to run the multiprocessing version **outside of our jupyter environment**.\n",
    "Put the following into a script or download the [full version here](https://cloudstor.aarnet.edu.au/plus/s/Q7DpigC2bibIgHT/download)."
   ]
  },
  {
   "cell_type": "code",
   "execution_count": null,
   "metadata": {},
   "outputs": [],
   "source": [
    "#Put this snippet in a code block outside of Jupyter, but this time, use the multiprocessing capabilities\n",
    "#Because of how the multiprocessing works, it does not behave nicely in Jupyter all the time\n",
    "def make_global(shapes):\n",
    "    global gshapes\n",
    "    gshapes = shapes\n",
    "    \n",
    "start_time = time.time()\n",
    "with multiprocessing.Pool(initializer=make_global, initargs=(shapes,)) as pool:\n",
    "    Areas2 = pool.map(PolygonArea,polygons)\n",
    "\n",
    "print(\"Final Runtime\", time.time() - start_time)"
   ]
  },
  {
   "cell_type": "markdown",
   "metadata": {},
   "source": [
    "~~~\n",
    "Process 0 Finished in 0.2148s.\n",
    "Process 1 Finished in 0.2199s.\n",
    "Process 30 Finished in 0.2136s.\n",
    "Process 31 Finished in 0.2135s.\n",
    "Process 4 Finished in 0.2138s.\n",
    "Process 5 Finished in 0.2047s.\n",
    "Process 24 Finished in 0.2137s.\n",
    "Process 25 Finished in 0.2138s.\n",
    "Process 34 Finished in 0.2116s.\n",
    "Process 35 Finished in 0.2124s.\n",
    "Process 6 Finished in 0.2138s.\n",
    "Process 7 Finished in 0.2047s.\n",
    "Process 16 Finished in 0.2137s.\n",
    "Process 17 Finished in 0.2138s.\n",
    "Process 38 Finished in 0.2106s.\n",
    "Process 39 Finished in 0.2124s.\n",
    "Process 8 Finished in 0.2138s.\n",
    "Process 9 Finished in 0.2047s.\n",
    "Process 26 Finished in 0.2137s.\n",
    "Process 27 Finished in 0.2138s.\n",
    "Process 42 Finished in 0.2106s.\n",
    "Process 43 Finished in 0.2124s.\n",
    "Process 12 Finished in 0.2138s.\n",
    "Process 13 Finished in 0.2047s.\n",
    "Process 20 Finished in 0.2137s.\n",
    "Process 21 Finished in 0.2138s.\n",
    "Process 32 Finished in 0.2116s.\n",
    "Process 33 Finished in 0.2124s.\n",
    "Process 14 Finished in 0.2138s.\n",
    "Process 15 Finished in 0.2037s.\n",
    "Process 22 Finished in 0.2137s.\n",
    "Process 23 Finished in 0.2138s.\n",
    "Process 40 Finished in 0.2106s.\n",
    "Process 41 Finished in 0.2124s.\n",
    "Process 2 Finished in 0.2138s.\n",
    "Process 3 Finished in 0.2047s.\n",
    "Process 28 Finished in 0.2137s.\n",
    "Process 29 Finished in 0.2138s.\n",
    "Process 44 Finished in 0.2096s.\n",
    "Process 45 Finished in 0.2124s.\n",
    "Process 10 Finished in 0.2138s.\n",
    "Process 11 Finished in 0.2047s.\n",
    "Process 18 Finished in 0.2137s.\n",
    "Process 19 Finished in 0.2138s.\n",
    "Process 36 Finished in 0.2116s.\n",
    "Process 37 Finished in 0.2124s.\n",
    "Final Runtime 5.4170615673065186\n",
    "~~~"
   ]
  },
  {
   "cell_type": "markdown",
   "metadata": {},
   "source": [
    "Is there any speed up? Why are the processes not in order? Is there any overhead?\n",
    "\n",
    "<div class=\"challenge\">\n",
    "\n",
    "### Challenge.\n",
    "\n",
    "- The *pyshp/shapefile* library contains the function ```signed_area``` which can calculate the area of a polygon. Replace the calculation of ***area*** using the *shoelace* formula in the ```PolygonArea``` function with the ```signed_area``` method:\n",
    "    \n",
    "```python\n",
    "area=shapefile.signed_area(corners)\n",
    "```\n",
    "\n",
    "- How does this change the timings of your speed tests? Hint, it might not be by much.\n",
    "    \n",
    "<details>\n",
    "<summary>Solution</summary>\n",
    "\n",
    "    \n",
    "```python\n",
    "def PolygonArea(nshp):\n",
    "    start_time = time.time()\n",
    "    \n",
    "    area=shapefile.signed_area(corners)\n",
    "    \n",
    "    endtime=time.time() - start_time\n",
    "    print(\"Process {} Finished in {:0.4f}s. \\n\".format(nshp,endtime))\n",
    "    return(area)\n",
    "```\n",
    "   \n",
    "```python\n",
    "#Test the serial version\n",
    "start_time = time.time()\n",
    "Areas1=[]\n",
    "\n",
    "for i in polygons:\n",
    "    Areas1.append(PolygonArea(i))\n",
    "print(\"Final Runtime\", time.time() - start_time)\n",
    "\n",
    "#Test the multiprocessing version\n",
    "start_time = time.time()\n",
    "with multiprocessing.Pool(initializer=make_global, initargs=(shapes,)) as pool:\n",
    "    Areas2 = pool.map(PolygonArea,polygons)\n",
    "\n",
    "print(\"Final Runtime\", time.time() - start_time)\n",
    "\n",
    "```\n",
    "    \n",
    "There is generally a sweet spot in how many processes you create to optimise the run time. A large number of python processes is generally not advisable, as it involves a large fixed cost in setting up many python interpreters and its supporting infrastructure. Play around with different numbers of processes in the pool(processes) statement to see how the runtime varies. Also, well developed libraries often have nicely optimised algorithms, you may not have to reinvent the wheel (Haha at this Python pun).\n",
    "    \n",
    "</details>\n",
    "</div>"
   ]
  },
  {
   "cell_type": "markdown",
   "metadata": {},
   "source": [
    "## Useful links\n",
    "\n",
    "[https://realpython.com/python-concurrency/](https://realpython.com/python-concurrency/)\n",
    "\n",
    "[https://docs.python.org/3/library/multiprocessing.html](https://docs.python.org/3/library/multiprocessing.html)\n",
    "\n",
    "[https://www.backblaze.com/blog/whats-the-diff-programs-processes-and-threads/](https://www.backblaze.com/blog/whats-the-diff-programs-processes-and-threads/)\n",
    "\n",
    "[https://pawseysc.github.io/training.html](https://pawseysc.github.io/training.html)\n",
    "\n",
    "\n",
    "## MPI: Message Passing Interface\n",
    "MPI is a standardized and portable message-passing system designed to function on a wide variety of parallel computers.\n",
    "The standard defines the syntax and semantics of a core of library routines useful to a wide range of users writing portable message-passing programs in C, C++, and Fortran. There are several well-tested and efficient implementations of MPI, many of which are open-source or in the public domain.\n",
    "\n",
    "MPI for Python, found in [mpi4py](https://mpi4py.readthedocs.io/en/stable/index.html), provides bindings of the MPI standard for the Python programming language, allowing any Python program to exploit multiple processors. This simple code demonstrates the collection of resources and how code is run on different processes:"
   ]
  },
  {
   "cell_type": "code",
   "execution_count": null,
   "metadata": {},
   "outputs": [],
   "source": [
    "#Run with:\n",
    "#mpiexec -np 4 python mpi.py\n",
    "\n",
    "from mpi4py import MPI\n",
    "\n",
    "comm = MPI.COMM_WORLD\n",
    "size = comm.Get_size()\n",
    "rank = comm.Get_rank()\n",
    "\n",
    "print(\"I am rank %d in group of %d processes.\" % (rank, size))"
   ]
  },
  {
   "cell_type": "markdown",
   "metadata": {},
   "source": [
    "<div class=\"keypoints\">  \n",
    "### keypoints\n",
    "\n",
    "- \"Understand there are different ways to accelerate\"\n",
    "- \"The best method depends on your algorithms, code and data\"\n",
    "- \"load multiprocessing library to execute a function in a parallel manner\"\n",
    "</div>"
   ]
  }
 ],
 "metadata": {
  "jupytext": {
   "cell_metadata_filter": "-all",
   "formats": "md,ipynb",
   "notebook_metadata_filter": "-all",
   "text_representation": {
    "extension": ".md",
    "format_name": "markdown"
   }
  },
  "kernelspec": {
   "display_name": "Python 3",
   "language": "python",
   "name": "python3"
  },
  "language_info": {
   "codemirror_mode": {
    "name": "ipython",
    "version": 3
   },
   "file_extension": ".py",
   "mimetype": "text/x-python",
   "name": "python",
   "nbconvert_exporter": "python",
   "pygments_lexer": "ipython3",
   "version": "3.7.9"
  }
 },
 "nbformat": 4,
 "nbformat_minor": 4
}
